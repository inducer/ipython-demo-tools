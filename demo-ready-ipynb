#! /usr/bin/env python3

from json import load, dump

import sys

from optparse import OptionParser

parser = OptionParser(
    usage="%prog [options] INFILE OUTFILE")

parser.add_option(
    "-k", "--keep", action="store_true",
    help="Keep everything, just delete '# keep' comments")

options, args = parser.parse_args()

if len(args) != 2:
    parser.print_usage()
    sys.exit(1)

with open(args[0], "rt") as inf:
    ipynb = load(inf)

for ws in ipynb["worksheets"]:
    for cell in ws["cells"]:
        if cell["cell_type"] == "code":
            do_keep = False
            new_inputs = []

            inputs = None
            if inputs is None and "inputs" in cell:
                inputs = cell["inputs"]
            if inputs is None and "input" in cell:
                inputs = cell["input"]

            for input_line in inputs:
                if input_line.startswith("#keep"):
                    do_keep = True
                else:
                    new_inputs.append(input_line)

            if "inputs" in cell:
                del cell["inputs"]
            if options.keep:
                cell["input"] = new_inputs
            else:
                if do_keep:
                    cell["input"] = new_inputs
                else:
                    cell["input"] = []

                cell["outputs"] = []
                cell.pop("prompt_number", None)


with open(args[1], "wt") as outf:
    dump(ipynb, outf)
