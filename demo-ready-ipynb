#! /usr/bin/env python3

from json import load, dump

from argparse import ArgumentParser

from warnings import warn
warn(
    "This program is deprecated and only kept for compatibility. "
    "You should use the newer prepare-ipynb instead "
    "(and convert your existing notebooks to it).",
    DeprecationWarning)

parser = ArgumentParser()

parser.add_argument(
    "-k", "--keep", action="store_true",
    help="Keep everything, just delete '# keep' comments")
parser.add_argument("infile", metavar="INFILE.ipynb")
parser.add_argument("outfile", metavar="OUTFILE.ipynb")

args = parser.parse_args()

with open(args.infile, "rt") as inf:
    ipynb = load(inf)

for ws in ipynb["worksheets"]:
    for cell in ws["cells"]:
        if cell["cell_type"] == "code":
            do_keep = False
            new_inputs = []

            inputs = None
            if inputs is None and "inputs" in cell:
                inputs = cell["inputs"]
            if inputs is None and "input" in cell:
                inputs = cell["input"]

            for input_line in inputs:
                if "#keep" in input_line:
                    do_keep = True
                else:
                    new_inputs.append(input_line)

            if "inputs" in cell:
                del cell["inputs"]
            if args.keep:
                cell["input"] = new_inputs
            else:
                if do_keep:
                    cell["input"] = new_inputs
                else:
                    cell["input"] = []

                cell["outputs"] = []
                cell.pop("prompt_number", None)


with open(args.outfile, "wt") as outf:
    dump(ipynb, outf)
