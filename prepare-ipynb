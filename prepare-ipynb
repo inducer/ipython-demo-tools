#! /usr/bin/env python3

from json import load, dump


class _SourceReplacer:
    def __init__(self, cell):
        self.cell = cell

    def get(self):
        cell = self.cell
        if "inputs" in cell:
            self.attr = "input"
            return cell["inputs"]
        if "input" in cell:
            self.attr = "input"
            return cell["input"]
        if "source" in cell:
            self.attr = "source"
            return cell["source"]

        print(cell)
        raise ValueError("no inputs found")

    def set(self, inputs):
        if self.attr == "input" and "inputs" in self.cell:
            del self.cell["inputs"]

        self.cell[self.attr] = inputs


def convert_from_keep(cell):
    sr = _SourceReplacer(cell)
    inputs = sr.get()

    new_inputs = []
    has_keep = False
    for input_line in inputs:
        if "#keep" in input_line:
            has_keep = True
        else:
            new_inputs.append(input_line)
    if not has_keep and new_inputs:
        new_inputs = ["#clear\n"] + new_inputs

    sr.set(new_inputs)


def remove_marks(cell):
    sr = _SourceReplacer(cell)
    inputs = sr.get()

    new_inputs = []
    for input_line in inputs:
        if "#clear" not in input_line:
            new_inputs.append(input_line)

    sr.set(new_inputs)


def clear_output(cell):
    cell["outputs"] = []
    cell.pop("prompt_number", None)


def clear_marked_inputs(cell):
    sr = _SourceReplacer(cell)
    inputs = sr.get()

    has_clear = False
    new_inputs = []
    for input_line in inputs:
        if "#clear" not in input_line:
            new_inputs.append(input_line)
        else:
            has_clear = True
            break

    if has_clear:
        new_inputs = []

    sr.set(new_inputs)


OP_FUNCS = {
        "convert-from-keep": convert_from_keep,
        "remove-marks": remove_marks,
        "clear-output": clear_output,
        "clear-marked-inputs": clear_marked_inputs,
        }


def main():
    from argparse import ArgumentParser

    parser = ArgumentParser()

    parser.add_argument(
            "operations",
            choices=tuple(OP_FUNCS.keys()),
            nargs="+")
    parser.add_argument("infile", metavar="INFILE.ipynb")
    parser.add_argument("outfile", metavar="OUTFILE.ipynb")

    args = parser.parse_args()

    with open(args.infile, "rt", encoding="utf-8") as inf:
        ipynb = load(inf)

    def iterate_cells(ipynb):
        if "worksheets" in ipynb:
            for ws in ipynb["worksheets"]:
                for cell in ws["cells"]:
                    yield cell
        else:
            for cell in ipynb["cells"]:
                yield cell

    for cell in iterate_cells(ipynb):
        if cell["cell_type"] == "code":
                for op in args.operations:
                    op_func = OP_FUNCS[op]
                    op_func(cell)

    with open(args.outfile, "wt") as outf:
        dump(ipynb, outf, indent=2, sort_keys=True)

if __name__ == "__main__":
    main()
